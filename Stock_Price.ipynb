{
  "nbformat": 4,
  "nbformat_minor": 0,
  "metadata": {
    "colab": {
      "name": "Stock Price.ipynb",
      "provenance": [],
      "collapsed_sections": []
    },
    "kernelspec": {
      "display_name": "Python 3",
      "language": "python",
      "name": "python3"
    },
    "language_info": {
      "codemirror_mode": {
        "name": "ipython",
        "version": 3
      },
      "file_extension": ".py",
      "mimetype": "text/x-python",
      "name": "python",
      "nbconvert_exporter": "python",
      "pygments_lexer": "ipython3",
      "version": "3.7.3"
    }
  },
  "cells": [
    {
      "cell_type": "markdown",
      "metadata": {
        "id": "r9Mc7ppZRx70"
      },
      "source": [
        "**Importing the Libraries**"
      ]
    },
    {
      "cell_type": "code",
      "metadata": {
        "id": "yq9p70ArCgQ1"
      },
      "source": [
        "import pandas as pd\n",
        "import matplotlib.pyplot as plt\n",
        "import math as m\n",
        "from sklearn.preprocessing import MinMaxScaler as mms\n",
        "import numpy as np\n",
        "import pandas_datareader as web\n",
        "from keras.models import Sequential\n",
        "from keras.layers import Dense, LSTM\n",
        "from datetime import date\n",
        "plt.style.use('fivethirtyeight')"
      ],
      "execution_count": 1,
      "outputs": []
    },
    {
      "cell_type": "markdown",
      "metadata": {
        "id": "oittC1sDPbhN"
      },
      "source": [
        "**Input the name of the NASDAQ name of the Company to predict the Stock Price**"
      ]
    },
    {
      "cell_type": "code",
      "metadata": {
        "colab": {
          "base_uri": "https://localhost:8080/"
        },
        "id": "C6n7mi2JPlpL",
        "outputId": "b6209889-7cd8-403f-ffdc-534df0e17510"
      },
      "source": [
        "name = input()\n",
        "e = date.today()\n",
        "s = e.replace(year=e.year-10)"
      ],
      "execution_count": 2,
      "outputs": [
        {
          "output_type": "stream",
          "text": [
            "AAPL\n"
          ],
          "name": "stdout"
        }
      ]
    },
    {
      "cell_type": "markdown",
      "metadata": {
        "id": "qrh56vVFSGqw"
      },
      "source": [
        "**Creating the Data Frame using Yahoo as the Data Source**"
      ]
    },
    {
      "cell_type": "code",
      "metadata": {
        "colab": {
          "base_uri": "https://localhost:8080/",
          "height": 431
        },
        "id": "9Y1w9iweDrtD",
        "outputId": "51ea083f-57d1-44a9-97cc-d53004948d9e"
      },
      "source": [
        "df = web.DataReader(name, data_source = 'yahoo', start= s, end = e)\n",
        "df"
      ],
      "execution_count": 3,
      "outputs": [
        {
          "output_type": "execute_result",
          "data": {
            "text/html": [
              "<div>\n",
              "<style scoped>\n",
              "    .dataframe tbody tr th:only-of-type {\n",
              "        vertical-align: middle;\n",
              "    }\n",
              "\n",
              "    .dataframe tbody tr th {\n",
              "        vertical-align: top;\n",
              "    }\n",
              "\n",
              "    .dataframe thead th {\n",
              "        text-align: right;\n",
              "    }\n",
              "</style>\n",
              "<table border=\"1\" class=\"dataframe\">\n",
              "  <thead>\n",
              "    <tr style=\"text-align: right;\">\n",
              "      <th></th>\n",
              "      <th>High</th>\n",
              "      <th>Low</th>\n",
              "      <th>Open</th>\n",
              "      <th>Close</th>\n",
              "      <th>Volume</th>\n",
              "      <th>Adj Close</th>\n",
              "    </tr>\n",
              "    <tr>\n",
              "      <th>Date</th>\n",
              "      <th></th>\n",
              "      <th></th>\n",
              "      <th></th>\n",
              "      <th></th>\n",
              "      <th></th>\n",
              "      <th></th>\n",
              "    </tr>\n",
              "  </thead>\n",
              "  <tbody>\n",
              "    <tr>\n",
              "      <th>2010-12-15</th>\n",
              "      <td>11.535714</td>\n",
              "      <td>11.399643</td>\n",
              "      <td>11.428572</td>\n",
              "      <td>11.441428</td>\n",
              "      <td>417312000.0</td>\n",
              "      <td>9.789804</td>\n",
              "    </tr>\n",
              "    <tr>\n",
              "      <th>2010-12-16</th>\n",
              "      <td>11.521786</td>\n",
              "      <td>11.432143</td>\n",
              "      <td>11.467500</td>\n",
              "      <td>11.473214</td>\n",
              "      <td>322030800.0</td>\n",
              "      <td>9.817002</td>\n",
              "    </tr>\n",
              "    <tr>\n",
              "      <th>2010-12-17</th>\n",
              "      <td>11.492500</td>\n",
              "      <td>11.436786</td>\n",
              "      <td>11.486786</td>\n",
              "      <td>11.450357</td>\n",
              "      <td>386929200.0</td>\n",
              "      <td>9.797442</td>\n",
              "    </tr>\n",
              "    <tr>\n",
              "      <th>2010-12-20</th>\n",
              "      <td>11.544642</td>\n",
              "      <td>11.365357</td>\n",
              "      <td>11.485714</td>\n",
              "      <td>11.507500</td>\n",
              "      <td>385610400.0</td>\n",
              "      <td>9.846340</td>\n",
              "    </tr>\n",
              "    <tr>\n",
              "      <th>2010-12-21</th>\n",
              "      <td>11.585357</td>\n",
              "      <td>11.501785</td>\n",
              "      <td>11.535714</td>\n",
              "      <td>11.578571</td>\n",
              "      <td>256354000.0</td>\n",
              "      <td>9.907149</td>\n",
              "    </tr>\n",
              "    <tr>\n",
              "      <th>...</th>\n",
              "      <td>...</td>\n",
              "      <td>...</td>\n",
              "      <td>...</td>\n",
              "      <td>...</td>\n",
              "      <td>...</td>\n",
              "      <td>...</td>\n",
              "    </tr>\n",
              "    <tr>\n",
              "      <th>2020-12-08</th>\n",
              "      <td>124.980003</td>\n",
              "      <td>123.089996</td>\n",
              "      <td>124.370003</td>\n",
              "      <td>124.379997</td>\n",
              "      <td>82225500.0</td>\n",
              "      <td>124.379997</td>\n",
              "    </tr>\n",
              "    <tr>\n",
              "      <th>2020-12-09</th>\n",
              "      <td>125.949997</td>\n",
              "      <td>121.000000</td>\n",
              "      <td>124.529999</td>\n",
              "      <td>121.779999</td>\n",
              "      <td>115089200.0</td>\n",
              "      <td>121.779999</td>\n",
              "    </tr>\n",
              "    <tr>\n",
              "      <th>2020-12-10</th>\n",
              "      <td>123.870003</td>\n",
              "      <td>120.150002</td>\n",
              "      <td>120.500000</td>\n",
              "      <td>123.239998</td>\n",
              "      <td>81312200.0</td>\n",
              "      <td>123.239998</td>\n",
              "    </tr>\n",
              "    <tr>\n",
              "      <th>2020-12-11</th>\n",
              "      <td>122.760002</td>\n",
              "      <td>120.550003</td>\n",
              "      <td>122.430000</td>\n",
              "      <td>122.410004</td>\n",
              "      <td>86939800.0</td>\n",
              "      <td>122.410004</td>\n",
              "    </tr>\n",
              "    <tr>\n",
              "      <th>2020-12-14</th>\n",
              "      <td>123.349998</td>\n",
              "      <td>121.540001</td>\n",
              "      <td>122.599998</td>\n",
              "      <td>121.779999</td>\n",
              "      <td>79184500.0</td>\n",
              "      <td>121.779999</td>\n",
              "    </tr>\n",
              "  </tbody>\n",
              "</table>\n",
              "<p>2517 rows × 6 columns</p>\n",
              "</div>"
            ],
            "text/plain": [
              "                  High         Low  ...       Volume   Adj Close\n",
              "Date                                ...                         \n",
              "2010-12-15   11.535714   11.399643  ...  417312000.0    9.789804\n",
              "2010-12-16   11.521786   11.432143  ...  322030800.0    9.817002\n",
              "2010-12-17   11.492500   11.436786  ...  386929200.0    9.797442\n",
              "2010-12-20   11.544642   11.365357  ...  385610400.0    9.846340\n",
              "2010-12-21   11.585357   11.501785  ...  256354000.0    9.907149\n",
              "...                ...         ...  ...          ...         ...\n",
              "2020-12-08  124.980003  123.089996  ...   82225500.0  124.379997\n",
              "2020-12-09  125.949997  121.000000  ...  115089200.0  121.779999\n",
              "2020-12-10  123.870003  120.150002  ...   81312200.0  123.239998\n",
              "2020-12-11  122.760002  120.550003  ...   86939800.0  122.410004\n",
              "2020-12-14  123.349998  121.540001  ...   79184500.0  121.779999\n",
              "\n",
              "[2517 rows x 6 columns]"
            ]
          },
          "metadata": {
            "tags": []
          },
          "execution_count": 3
        }
      ]
    },
    {
      "cell_type": "code",
      "metadata": {
        "colab": {
          "base_uri": "https://localhost:8080/"
        },
        "id": "mv8tr4D8Eecx",
        "outputId": "7ebbd0e9-87c9-4bf9-9b53-8eacfd3b0ea4"
      },
      "source": [
        "df.shape"
      ],
      "execution_count": 4,
      "outputs": [
        {
          "output_type": "execute_result",
          "data": {
            "text/plain": [
              "(2517, 6)"
            ]
          },
          "metadata": {
            "tags": []
          },
          "execution_count": 4
        }
      ]
    },
    {
      "cell_type": "markdown",
      "metadata": {
        "id": "CfC6ZHmxSWDY"
      },
      "source": [
        "**Visualizing the Closing Price of Stocks**"
      ]
    },
    {
      "cell_type": "code",
      "metadata": {
        "colab": {
          "base_uri": "https://localhost:8080/",
          "height": 669
        },
        "id": "MKmVNbnFGYMk",
        "outputId": "b530a5ba-bda6-4bac-98bc-dfc01d5030eb"
      },
      "source": [
        "plt.figure(figsize = (24,12))\n",
        "plt.title('Stock History')\n",
        "plt.xlabel('Date', fontsize = 22)\n",
        "plt.ylabel('Closing Stock Price ($)', fontsize = 22)\n",
        "plt.plot(df['Close'])\n",
        "plt.show()"
      ],
      "execution_count": 5,
      "outputs": [
        {
          "output_type": "display_data",
          "data": {
            "image/png": "[encoded data removed]",
            "text/plain": [
              "<Figure size 1728x864 with 1 Axes>"
            ]
          },
          "metadata": {
            "tags": [],
            "needs_background": "light"
          }
        }
      ]
    },
    {
      "cell_type": "markdown",
      "metadata": {
        "id": "VgChSImlSfQF"
      },
      "source": [
        "**Training the model with 80% of the Data**"
      ]
    },
    {
      "cell_type": "code",
      "metadata": {
        "colab": {
          "base_uri": "https://localhost:8080/"
        },
        "id": "201pxL3bIYfV",
        "outputId": "0f366924-25a6-4ebb-8633-212f97a6b627"
      },
      "source": [
        "data = df.filter(['Close'])\n",
        "ds = data.values\n",
        "training = m.ceil(len(ds)*0.8)\n",
        "training"
      ],
      "execution_count": 6,
      "outputs": [
        {
          "output_type": "execute_result",
          "data": {
            "text/plain": [
              "2014"
            ]
          },
          "metadata": {
            "tags": []
          },
          "execution_count": 6
        }
      ]
    },
    {
      "cell_type": "markdown",
      "metadata": {
        "id": "odZtD3GfS-EM"
      },
      "source": [
        "**Scaling of Data**"
      ]
    },
    {
      "cell_type": "code",
      "metadata": {
        "colab": {
          "base_uri": "https://localhost:8080/"
        },
        "id": "KG77eEfHOtac",
        "outputId": "b0782a6b-8511-40e3-a226-ca11936ab310"
      },
      "source": [
        "sc = mms(feature_range=(0,1))\n",
        "sd = sc.fit_transform(ds)\n",
        "sd"
      ],
      "execution_count": 7,
      "outputs": [
        {
          "output_type": "execute_result",
          "data": {
            "text/plain": [
              "array([[0.00146438],\n",
              "       [0.00172297],\n",
              "       [0.00153702],\n",
              "       ...,\n",
              "       [0.91099803],\n",
              "       [0.90424564],\n",
              "       [0.89912025]])"
            ]
          },
          "metadata": {
            "tags": []
          },
          "execution_count": 7
        }
      ]
    },
    {
      "cell_type": "markdown",
      "metadata": {
        "id": "YsyBakJMUCew"
      },
      "source": [
        "1.   Creating **Training** Dataset\n",
        "2.   Creating **Scaled Training** Dataset\n",
        "3.   **Spliting** the Dataset into **Two** Datasets\n",
        "\n"
      ]
    },
    {
      "cell_type": "code",
      "metadata": {
        "colab": {
          "base_uri": "https://localhost:8080/"
        },
        "id": "rLe4Riy3RCrp",
        "outputId": "72fa1e9f-7f19-4ab8-9314-9496bdd727c8"
      },
      "source": [
        "td = sd[0:training, :]\n",
        "x_train = []\n",
        "y_train = []\n",
        "for i in range(60,len(td)):\n",
        "  x_train.append(td[i-60 : i, 0])\n",
        "  y_train.append(td[i, 0])\n",
        "  if i<= 60:\n",
        "    print(x_train)\n",
        "    print(y_train)\n",
        "    print()"
      ],
      "execution_count": 8,
      "outputs": [
        {
          "output_type": "stream",
          "text": [
            "[array([0.00146438, 0.00172297, 0.00153702, 0.0020019 , 0.0025801 ,\n",
            "       0.00285903, 0.00240577, 0.00271957, 0.00294911, 0.00289681,\n",
            "       0.00242321, 0.0021036 , 0.00414037, 0.00464012, 0.00542752,\n",
            "       0.00534906, 0.00604349, 0.00788269, 0.00764734, 0.00845507,\n",
            "       0.00882117, 0.00963471, 0.00735969, 0.00683379, 0.00504399,\n",
            "       0.0033123 , 0.00642992, 0.0075776 , 0.00828946, 0.0081035 ,\n",
            "       0.00603768, 0.00697325, 0.00863231, 0.00842602, 0.00817033,\n",
            "       0.00905942, 0.01062259, 0.01158723, 0.01244726, 0.01139546,\n",
            "       0.01206664, 0.01274363, 0.01295283, 0.01389131, 0.01248794,\n",
            "       0.01023907, 0.00676696, 0.00793208, 0.00800762, 0.00954174,\n",
            "       0.01100903, 0.00987587, 0.01069233, 0.01285404, 0.01298188,\n",
            "       0.01163371, 0.01174994, 0.01079402, 0.00910881, 0.01065456])]\n",
            "[0.011110722664544423]\n",
            "\n"
          ],
          "name": "stdout"
        }
      ]
    },
    {
      "cell_type": "markdown",
      "metadata": {
        "id": "byVxTdVwbkc0"
      },
      "source": [
        "**Converting x_train and y_train to numpy array**"
      ]
    },
    {
      "cell_type": "code",
      "metadata": {
        "colab": {
          "base_uri": "https://localhost:8080/"
        },
        "id": "Q_5lbk62buqo",
        "outputId": "ab62b3ef-0515-40b1-f7b9-16d41e12c441"
      },
      "source": [
        "x_train, y_train = np.array(x_train), np.array(y_train)\n",
        "x_train = np.reshape(x_train, (x_train.shape[0], x_train.shape[1], 1))\n",
        "x_train.shape"
      ],
      "execution_count": 9,
      "outputs": [
        {
          "output_type": "execute_result",
          "data": {
            "text/plain": [
              "(1954, 60, 1)"
            ]
          },
          "metadata": {
            "tags": []
          },
          "execution_count": 9
        }
      ]
    },
    {
      "cell_type": "markdown",
      "metadata": {
        "id": "FeeJLMgHneWy"
      },
      "source": [
        "**LSTM Model**"
      ]
    },
    {
      "cell_type": "code",
      "metadata": {
        "id": "Cbr5lIw3clne"
      },
      "source": [
        "model = Sequential()\n",
        "model.add(LSTM(50, return_sequences = True, input_shape = (x_train.shape[1], 1)))\n",
        "model.add(LSTM(50, return_sequences = False))\n",
        "model.add(Dense(25))\n",
        "model.add(Dense(1))"
      ],
      "execution_count": 10,
      "outputs": []
    },
    {
      "cell_type": "code",
      "metadata": {
        "id": "QGVbQZFaobQ8"
      },
      "source": [
        "model.compile(optimizer = 'adam' , loss = 'mean_squared_error')"
      ],
      "execution_count": 11,
      "outputs": []
    },
    {
      "cell_type": "code",
      "metadata": {
        "colab": {
          "base_uri": "https://localhost:8080/"
        },
        "id": "aONvaikbpTrH",
        "outputId": "389f5002-67af-43bb-c2af-e9961fffe2ca"
      },
      "source": [
        "model.fit(x_train, y_train, batch_size=1, epochs=1)"
      ],
      "execution_count": 12,
      "outputs": [
        {
          "output_type": "stream",
          "text": [
            "1954/1954 [==============================] - 44s 22ms/step - loss: 3.2476e-04\n"
          ],
          "name": "stdout"
        },
        {
          "output_type": "execute_result",
          "data": {
            "text/plain": [
              "<tensorflow.python.keras.callbacks.History at 0x7f8d389f4630>"
            ]
          },
          "metadata": {
            "tags": []
          },
          "execution_count": 12
        }
      ]
    },
    {
      "cell_type": "markdown",
      "metadata": {
        "id": "YDCQM67vqc3o"
      },
      "source": [
        "1.   **Creating testing Dataset**\n",
        "2.   **Creating a new array containing scaled values from index 1695 to 2193**\n",
        "\n"
      ]
    },
    {
      "cell_type": "code",
      "metadata": {
        "id": "AjeaJHIppwtU"
      },
      "source": [
        "td = sd[training - 60 : , :]\n",
        "x_test = []\n",
        "y_test = ds[training : , :]\n",
        "for i in range (60, len(td)):\n",
        "  x_test.append(td[i - 60 : i, 0])"
      ],
      "execution_count": 13,
      "outputs": []
    },
    {
      "cell_type": "markdown",
      "metadata": {
        "id": "sI9BvT0hsMHK"
      },
      "source": [
        "**Converting the test data to numpy array**"
      ]
    },
    {
      "cell_type": "code",
      "metadata": {
        "id": "bPbOhs8ysCUU"
      },
      "source": [
        "x_test = np.array(x_test)"
      ],
      "execution_count": 14,
      "outputs": []
    },
    {
      "cell_type": "code",
      "metadata": {
        "id": "DQMprj3Zsb_u"
      },
      "source": [
        "x_test = np.reshape(x_test, (x_test.shape[0], x_test.shape[1], 1))"
      ],
      "execution_count": 15,
      "outputs": []
    },
    {
      "cell_type": "code",
      "metadata": {
        "id": "-vyFehyMs52A"
      },
      "source": [
        "predictions = model.predict(x_test)\n",
        "predictions = sc.inverse_transform(predictions)\n"
      ],
      "execution_count": 16,
      "outputs": []
    },
    {
      "cell_type": "markdown",
      "metadata": {
        "id": "6G1I52Ydx4TT"
      },
      "source": [
        "Thus predictions are exactly similar to y_test"
      ]
    },
    {
      "cell_type": "markdown",
      "metadata": {
        "id": "vAn47T1XyVzp"
      },
      "source": [
        "**Root Mean Square Error**"
      ]
    },
    {
      "cell_type": "code",
      "metadata": {
        "colab": {
          "base_uri": "https://localhost:8080/"
        },
        "id": "6F-sFRlaxI2i",
        "outputId": "9a080039-3c28-4e01-ac92-e616c147c43c"
      },
      "source": [
        "rms = np.sqrt(np.mean(predictions - y_test) ** 2)\n",
        "rms"
      ],
      "execution_count": 17,
      "outputs": [
        {
          "output_type": "execute_result",
          "data": {
            "text/plain": [
              "1.5147408851335347"
            ]
          },
          "metadata": {
            "tags": []
          },
          "execution_count": 17
        }
      ]
    },
    {
      "cell_type": "markdown",
      "metadata": {
        "id": "yKoPLfnM2PJJ"
      },
      "source": [
        "**Plotting the data**"
      ]
    },
    {
      "cell_type": "code",
      "metadata": {
        "colab": {
          "base_uri": "https://localhost:8080/",
          "height": 774
        },
        "id": "_v-_xT-cytFO",
        "outputId": "86a61f83-efc9-473b-96ee-42d74becf94b"
      },
      "source": [
        "train = data[ : training] \n",
        "valid = data[training : ]\n",
        "valid['Predictions'] = predictions\n",
        "plt.figure(figsize = (24,12))\n",
        "plt.title('Model',fontsize = 22)\n",
        "plt.xlabel('Date',fontsize = 22)\n",
        "plt.ylabel('Stock Price ($)',fontsize = 22)\n",
        "plt.plot(train['Close'])\n",
        "plt.plot(valid[['Close', 'Predictions']])\n",
        "plt.legend(['Train','Val','Predictions'], loc = 'lower right')\n",
        "plt.show()"
      ],
      "execution_count": 18,
      "outputs": [
        {
          "output_type": "stream",
          "text": [
            "/usr/local/lib/python3.6/dist-packages/ipykernel_launcher.py:3: SettingWithCopyWarning: \n",
            "A value is trying to be set on a copy of a slice from a DataFrame.\n",
            "Try using .loc[row_indexer,col_indexer] = value instead\n",
            "\n",
            "See the caveats in the documentation: https://pandas.pydata.org/pandas-docs/stable/user_guide/indexing.html#returning-a-view-versus-a-copy\n",
            "  This is separate from the ipykernel package so we can avoid doing imports until\n"
          ],
          "name": "stderr"
        },
        {
          "output_type": "display_data",
          "data": {
            "image/png": "[encoded data removed]",
            "text/plain": [
              "<Figure size 1728x864 with 1 Axes>"
            ]
          },
          "metadata": {
            "tags": [],
            "needs_background": "light"
          }
        }
      ]
    },
    {
      "cell_type": "code",
      "metadata": {
        "colab": {
          "base_uri": "https://localhost:8080/",
          "height": 431
        },
        "id": "seb6ScMq3sxg",
        "outputId": "6ad34839-8dd4-412c-e9d2-4be4a2ad449a"
      },
      "source": [
        "valid"
      ],
      "execution_count": 19,
      "outputs": [
        {
          "output_type": "execute_result",
          "data": {
            "text/html": [
              "<div>\n",
              "<style scoped>\n",
              "    .dataframe tbody tr th:only-of-type {\n",
              "        vertical-align: middle;\n",
              "    }\n",
              "\n",
              "    .dataframe tbody tr th {\n",
              "        vertical-align: top;\n",
              "    }\n",
              "\n",
              "    .dataframe thead th {\n",
              "        text-align: right;\n",
              "    }\n",
              "</style>\n",
              "<table border=\"1\" class=\"dataframe\">\n",
              "  <thead>\n",
              "    <tr style=\"text-align: right;\">\n",
              "      <th></th>\n",
              "      <th>Close</th>\n",
              "      <th>Predictions</th>\n",
              "    </tr>\n",
              "    <tr>\n",
              "      <th>Date</th>\n",
              "      <th></th>\n",
              "      <th></th>\n",
              "    </tr>\n",
              "  </thead>\n",
              "  <tbody>\n",
              "    <tr>\n",
              "      <th>2018-12-17</th>\n",
              "      <td>40.985001</td>\n",
              "      <td>45.541023</td>\n",
              "    </tr>\n",
              "    <tr>\n",
              "      <th>2018-12-18</th>\n",
              "      <td>41.517502</td>\n",
              "      <td>45.211102</td>\n",
              "    </tr>\n",
              "    <tr>\n",
              "      <th>2018-12-19</th>\n",
              "      <td>40.222500</td>\n",
              "      <td>44.924694</td>\n",
              "    </tr>\n",
              "    <tr>\n",
              "      <th>2018-12-20</th>\n",
              "      <td>39.207500</td>\n",
              "      <td>44.585770</td>\n",
              "    </tr>\n",
              "    <tr>\n",
              "      <th>2018-12-21</th>\n",
              "      <td>37.682499</td>\n",
              "      <td>44.159256</td>\n",
              "    </tr>\n",
              "    <tr>\n",
              "      <th>...</th>\n",
              "      <td>...</td>\n",
              "      <td>...</td>\n",
              "    </tr>\n",
              "    <tr>\n",
              "      <th>2020-12-08</th>\n",
              "      <td>124.379997</td>\n",
              "      <td>120.369125</td>\n",
              "    </tr>\n",
              "    <tr>\n",
              "      <th>2020-12-09</th>\n",
              "      <td>121.779999</td>\n",
              "      <td>121.100685</td>\n",
              "    </tr>\n",
              "    <tr>\n",
              "      <th>2020-12-10</th>\n",
              "      <td>123.239998</td>\n",
              "      <td>121.533081</td>\n",
              "    </tr>\n",
              "    <tr>\n",
              "      <th>2020-12-11</th>\n",
              "      <td>122.410004</td>\n",
              "      <td>121.888084</td>\n",
              "    </tr>\n",
              "    <tr>\n",
              "      <th>2020-12-14</th>\n",
              "      <td>121.779999</td>\n",
              "      <td>122.080940</td>\n",
              "    </tr>\n",
              "  </tbody>\n",
              "</table>\n",
              "<p>503 rows × 2 columns</p>\n",
              "</div>"
            ],
            "text/plain": [
              "                 Close  Predictions\n",
              "Date                               \n",
              "2018-12-17   40.985001    45.541023\n",
              "2018-12-18   41.517502    45.211102\n",
              "2018-12-19   40.222500    44.924694\n",
              "2018-12-20   39.207500    44.585770\n",
              "2018-12-21   37.682499    44.159256\n",
              "...                ...          ...\n",
              "2020-12-08  124.379997   120.369125\n",
              "2020-12-09  121.779999   121.100685\n",
              "2020-12-10  123.239998   121.533081\n",
              "2020-12-11  122.410004   121.888084\n",
              "2020-12-14  121.779999   122.080940\n",
              "\n",
              "[503 rows x 2 columns]"
            ]
          },
          "metadata": {
            "tags": []
          },
          "execution_count": 19
        }
      ]
    },
    {
      "cell_type": "code",
      "metadata": {
        "id": "kX5LYPHkMJhW"
      },
      "source": [
        ""
      ],
      "execution_count": 21,
      "outputs": []
    }
  ]
}