{
 "cells": [
  {
   "cell_type": "markdown",
   "metadata": {
    "id": "r9Mc7ppZRx70"
   },
   "source": [
    "**Importing the Libraries**"
   ]
  },
  {
   "cell_type": "code",
   "execution_count": 2,
   "metadata": {},
   "outputs": [
    {
     "name": "stdout",
     "output_type": "stream",
     "text": [
      "Collecting pandas_datareader\n",
      "  Downloading https://files.pythonhosted.org/packages/22/f1/a02eea03628865c3d4c29849cda8c8a73f43358048aee47d79dfbfa6c6c3/pandas_datareader-0.9.0-py3-none-any.whl (107kB)\n",
      "Requirement already satisfied: lxml in c:\\users\\anubhav\\anaconda3\\lib\\site-packages (from pandas_datareader) (4.3.4)\n",
      "Requirement already satisfied: pandas>=0.23 in c:\\users\\anubhav\\anaconda3\\lib\\site-packages (from pandas_datareader) (0.24.2)\n",
      "Requirement already satisfied: requests>=2.19.0 in c:\\users\\anubhav\\anaconda3\\lib\\site-packages (from pandas_datareader) (2.22.0)\n",
      "Requirement already satisfied: numpy>=1.12.0 in c:\\users\\anubhav\\anaconda3\\lib\\site-packages (from pandas>=0.23->pandas_datareader) (1.16.4)\n",
      "Requirement already satisfied: python-dateutil>=2.5.0 in c:\\users\\anubhav\\anaconda3\\lib\\site-packages (from pandas>=0.23->pandas_datareader) (2.8.0)\n",
      "Requirement already satisfied: pytz>=2011k in c:\\users\\anubhav\\anaconda3\\lib\\site-packages (from pandas>=0.23->pandas_datareader) (2019.1)\n",
      "Requirement already satisfied: urllib3!=1.25.0,!=1.25.1,<1.26,>=1.21.1 in c:\\users\\anubhav\\anaconda3\\lib\\site-packages (from requests>=2.19.0->pandas_datareader) (1.24.2)\n",
      "Requirement already satisfied: certifi>=2017.4.17 in c:\\users\\anubhav\\anaconda3\\lib\\site-packages (from requests>=2.19.0->pandas_datareader) (2019.6.16)\n",
      "Requirement already satisfied: chardet<3.1.0,>=3.0.2 in c:\\users\\anubhav\\anaconda3\\lib\\site-packages (from requests>=2.19.0->pandas_datareader) (3.0.4)\n",
      "Requirement already satisfied: idna<2.9,>=2.5 in c:\\users\\anubhav\\anaconda3\\lib\\site-packages (from requests>=2.19.0->pandas_datareader) (2.8)\n",
      "Requirement already satisfied: six>=1.5 in c:\\users\\anubhav\\anaconda3\\lib\\site-packages (from python-dateutil>=2.5.0->pandas>=0.23->pandas_datareader) (1.12.0)\n",
      "Installing collected packages: pandas-datareader\n",
      "Successfully installed pandas-datareader-0.9.0\n",
      "Note: you may need to restart the kernel to use updated packages.\n"
     ]
    }
   ],
   "source": [
    "pip install pandas_datareader"
   ]
  },
  {
   "cell_type": "code",
   "execution_count": 7,
   "metadata": {},
   "outputs": [
    {
     "name": "stdout",
     "output_type": "stream",
     "text": [
      "Collecting keras.models\n",
      "  Using cached https://files.pythonhosted.org/packages/25/b9/b97f7202081346923af692be7c926faf7b10c4ed432f99dca416786fec1e/keras_models-0.0.7-py3-none-any.whl\n",
      "Requirement already satisfied: keras in c:\\users\\anubhav\\anaconda3\\lib\\site-packages (from keras.models) (2.4.3)\n",
      "Requirement already satisfied: numpy in c:\\users\\anubhav\\anaconda3\\lib\\site-packages (from keras.models) (1.16.4)\n",
      "Requirement already satisfied: opencv-python in c:\\users\\anubhav\\anaconda3\\lib\\site-packages (from keras.models) (4.4.0.44)\n",
      "Requirement already satisfied: pathlib in c:\\users\\anubhav\\anaconda3\\lib\\site-packages (from keras.models) (1.0.1)\n",
      "Requirement already satisfied: Pillow in c:\\users\\anubhav\\anaconda3\\lib\\site-packages (from keras.models) (6.1.0)\n",
      "Requirement already satisfied: spacy in c:\\users\\anubhav\\anaconda3\\lib\\site-packages (from keras.models) (2.3.2)\n",
      "Requirement already satisfied: pyyaml in c:\\users\\anubhav\\anaconda3\\lib\\site-packages (from keras->keras.models) (5.1.1)\n",
      "Requirement already satisfied: h5py in c:\\users\\anubhav\\anaconda3\\lib\\site-packages (from keras->keras.models) (2.9.0)\n",
      "Requirement already satisfied: scipy>=0.14 in c:\\users\\anubhav\\anaconda3\\lib\\site-packages (from keras->keras.models) (1.2.1)\n",
      "Requirement already satisfied: cymem<2.1.0,>=2.0.2 in c:\\users\\anubhav\\anaconda3\\lib\\site-packages (from spacy->keras.models) (2.0.3)\n",
      "Requirement already satisfied: thinc==7.4.1 in c:\\users\\anubhav\\anaconda3\\lib\\site-packages (from spacy->keras.models) (7.4.1)\n",
      "Requirement already satisfied: plac<1.2.0,>=0.9.6 in c:\\users\\anubhav\\anaconda3\\lib\\site-packages (from spacy->keras.models) (1.1.3)\n",
      "Requirement already satisfied: catalogue<1.1.0,>=0.0.7 in c:\\users\\anubhav\\anaconda3\\lib\\site-packages (from spacy->keras.models) (1.0.0)\n",
      "Requirement already satisfied: requests<3.0.0,>=2.13.0 in c:\\users\\anubhav\\anaconda3\\lib\\site-packages (from spacy->keras.models) (2.22.0)\n",
      "Requirement already satisfied: tqdm<5.0.0,>=4.38.0 in c:\\users\\anubhav\\anaconda3\\lib\\site-packages (from spacy->keras.models) (4.51.0)\n",
      "Requirement already satisfied: preshed<3.1.0,>=3.0.2 in c:\\users\\anubhav\\anaconda3\\lib\\site-packages (from spacy->keras.models) (3.0.2)\n",
      "Requirement already satisfied: srsly<1.1.0,>=1.0.2 in c:\\users\\anubhav\\anaconda3\\lib\\site-packages (from spacy->keras.models) (1.0.2)\n",
      "Requirement already satisfied: blis<0.5.0,>=0.4.0 in c:\\users\\anubhav\\anaconda3\\lib\\site-packages (from spacy->keras.models) (0.4.1)\n",
      "Requirement already satisfied: setuptools in c:\\users\\anubhav\\anaconda3\\lib\\site-packages (from spacy->keras.models) (41.0.1)\n",
      "Requirement already satisfied: murmurhash<1.1.0,>=0.28.0 in c:\\users\\anubhav\\anaconda3\\lib\\site-packages (from spacy->keras.models) (1.0.2)\n",
      "Requirement already satisfied: wasabi<1.1.0,>=0.4.0 in c:\\users\\anubhav\\anaconda3\\lib\\site-packages (from spacy->keras.models) (0.8.0)\n",
      "Requirement already satisfied: six in c:\\users\\anubhav\\anaconda3\\lib\\site-packages (from h5py->keras->keras.models) (1.12.0)\n",
      "Requirement already satisfied: importlib-metadata>=0.20; python_version < \"3.8\" in c:\\users\\anubhav\\appdata\\roaming\\python\\python37\\site-packages (from catalogue<1.1.0,>=0.0.7->spacy->keras.models) (1.6.0)\n",
      "Requirement already satisfied: idna<2.9,>=2.5 in c:\\users\\anubhav\\anaconda3\\lib\\site-packages (from requests<3.0.0,>=2.13.0->spacy->keras.models) (2.8)\n",
      "Requirement already satisfied: certifi>=2017.4.17 in c:\\users\\anubhav\\anaconda3\\lib\\site-packages (from requests<3.0.0,>=2.13.0->spacy->keras.models) (2019.6.16)\n",
      "Requirement already satisfied: chardet<3.1.0,>=3.0.2 in c:\\users\\anubhav\\anaconda3\\lib\\site-packages (from requests<3.0.0,>=2.13.0->spacy->keras.models) (3.0.4)\n",
      "Requirement already satisfied: urllib3!=1.25.0,!=1.25.1,<1.26,>=1.21.1 in c:\\users\\anubhav\\anaconda3\\lib\\site-packages (from requests<3.0.0,>=2.13.0->spacy->keras.models) (1.24.2)\n",
      "Requirement already satisfied: zipp>=0.5 in c:\\users\\anubhav\\appdata\\roaming\\python\\python37\\site-packages (from importlib-metadata>=0.20; python_version < \"3.8\"->catalogue<1.1.0,>=0.0.7->spacy->keras.models) (3.1.0)\n",
      "Installing collected packages: keras.models\n",
      "Successfully installed keras.models\n",
      "Note: you may need to restart the kernel to use updated packages.\n"
     ]
    }
   ],
   "source": [
    "pip install keras.models"
   ]
  },
  {
   "cell_type": "code",
   "execution_count": 11,
   "metadata": {},
   "outputs": [
    {
     "name": "stdout",
     "output_type": "stream",
     "text": [
      "Requirement already satisfied: keras in c:\\users\\anubhav\\anaconda3\\lib\\site-packages (2.4.3)\n",
      "Requirement already satisfied: numpy>=1.9.1 in c:\\users\\anubhav\\anaconda3\\lib\\site-packages (from keras) (1.16.4)\n",
      "Requirement already satisfied: h5py in c:\\users\\anubhav\\anaconda3\\lib\\site-packages (from keras) (2.9.0)\n",
      "Requirement already satisfied: pyyaml in c:\\users\\anubhav\\anaconda3\\lib\\site-packages (from keras) (5.1.1)\n",
      "Requirement already satisfied: scipy>=0.14 in c:\\users\\anubhav\\anaconda3\\lib\\site-packages (from keras) (1.2.1)\n",
      "Requirement already satisfied: six in c:\\users\\anubhav\\anaconda3\\lib\\site-packages (from h5py->keras) (1.12.0)\n",
      "Note: you may need to restart the kernel to use updated packages.\n"
     ]
    }
   ],
   "source": [
    "pip install keras"
   ]
  },
  {
   "cell_type": "code",
   "execution_count": null,
   "metadata": {},
   "outputs": [],
   "source": [
    "pip install tensorflow"
   ]
  },
  {
   "cell_type": "code",
   "execution_count": 12,
   "metadata": {
    "id": "yq9p70ArCgQ1"
   },
   "outputs": [
    {
     "ename": "ImportError",
     "evalue": "Keras requires TensorFlow 2.2 or higher. Install TensorFlow via `pip install tensorflow`",
     "output_type": "error",
     "traceback": [
      "\u001b[1;31m---------------------------------------------------------------------------\u001b[0m",
      "\u001b[1;31mModuleNotFoundError\u001b[0m                       Traceback (most recent call last)",
      "\u001b[1;32m~\\Anaconda3\\lib\\site-packages\\keras\\__init__.py\u001b[0m in \u001b[0;36m<module>\u001b[1;34m\u001b[0m\n\u001b[0;32m      2\u001b[0m \u001b[1;32mtry\u001b[0m\u001b[1;33m:\u001b[0m\u001b[1;33m\u001b[0m\u001b[1;33m\u001b[0m\u001b[0m\n\u001b[1;32m----> 3\u001b[1;33m     \u001b[1;32mfrom\u001b[0m \u001b[0mtensorflow\u001b[0m\u001b[1;33m.\u001b[0m\u001b[0mkeras\u001b[0m\u001b[1;33m.\u001b[0m\u001b[0mlayers\u001b[0m\u001b[1;33m.\u001b[0m\u001b[0mexperimental\u001b[0m\u001b[1;33m.\u001b[0m\u001b[0mpreprocessing\u001b[0m \u001b[1;32mimport\u001b[0m \u001b[0mRandomRotation\u001b[0m\u001b[1;33m\u001b[0m\u001b[1;33m\u001b[0m\u001b[0m\n\u001b[0m\u001b[0;32m      4\u001b[0m \u001b[1;32mexcept\u001b[0m \u001b[0mImportError\u001b[0m\u001b[1;33m:\u001b[0m\u001b[1;33m\u001b[0m\u001b[1;33m\u001b[0m\u001b[0m\n",
      "\u001b[1;31mModuleNotFoundError\u001b[0m: No module named 'tensorflow'",
      "\nDuring handling of the above exception, another exception occurred:\n",
      "\u001b[1;31mImportError\u001b[0m                               Traceback (most recent call last)",
      "\u001b[1;32m<ipython-input-12-485d5a70e20d>\u001b[0m in \u001b[0;36m<module>\u001b[1;34m\u001b[0m\n\u001b[0;32m      5\u001b[0m \u001b[1;32mimport\u001b[0m \u001b[0mnumpy\u001b[0m \u001b[1;32mas\u001b[0m \u001b[0mnp\u001b[0m\u001b[1;33m\u001b[0m\u001b[1;33m\u001b[0m\u001b[0m\n\u001b[0;32m      6\u001b[0m \u001b[1;32mimport\u001b[0m \u001b[0mpandas_datareader\u001b[0m \u001b[1;32mas\u001b[0m \u001b[0mweb\u001b[0m\u001b[1;33m\u001b[0m\u001b[1;33m\u001b[0m\u001b[0m\n\u001b[1;32m----> 7\u001b[1;33m \u001b[1;32mfrom\u001b[0m \u001b[0mkeras\u001b[0m\u001b[1;33m.\u001b[0m\u001b[0mmodels\u001b[0m \u001b[1;32mimport\u001b[0m \u001b[0mSequential\u001b[0m\u001b[1;33m\u001b[0m\u001b[1;33m\u001b[0m\u001b[0m\n\u001b[0m\u001b[0;32m      8\u001b[0m \u001b[1;32mfrom\u001b[0m \u001b[0mkeras\u001b[0m\u001b[1;33m.\u001b[0m\u001b[0mlayers\u001b[0m \u001b[1;32mimport\u001b[0m \u001b[0mDense\u001b[0m\u001b[1;33m,\u001b[0m \u001b[0mLSTM\u001b[0m\u001b[1;33m\u001b[0m\u001b[1;33m\u001b[0m\u001b[0m\n\u001b[0;32m      9\u001b[0m \u001b[1;32mimport\u001b[0m \u001b[0mdatetime\u001b[0m\u001b[1;33m\u001b[0m\u001b[1;33m\u001b[0m\u001b[0m\n",
      "\u001b[1;32m~\\Anaconda3\\lib\\site-packages\\keras\\__init__.py\u001b[0m in \u001b[0;36m<module>\u001b[1;34m\u001b[0m\n\u001b[0;32m      4\u001b[0m \u001b[1;32mexcept\u001b[0m \u001b[0mImportError\u001b[0m\u001b[1;33m:\u001b[0m\u001b[1;33m\u001b[0m\u001b[1;33m\u001b[0m\u001b[0m\n\u001b[0;32m      5\u001b[0m     raise ImportError(\n\u001b[1;32m----> 6\u001b[1;33m         \u001b[1;34m'Keras requires TensorFlow 2.2 or higher. '\u001b[0m\u001b[1;33m\u001b[0m\u001b[1;33m\u001b[0m\u001b[0m\n\u001b[0m\u001b[0;32m      7\u001b[0m         'Install TensorFlow via `pip install tensorflow`')\n\u001b[0;32m      8\u001b[0m \u001b[1;33m\u001b[0m\u001b[0m\n",
      "\u001b[1;31mImportError\u001b[0m: Keras requires TensorFlow 2.2 or higher. Install TensorFlow via `pip install tensorflow`"
     ]
    }
   ],
   "source": [
    "import pandas as pd\n",
    "import matplotlib.pyplot as plt\n",
    "import math as m\n",
    "from sklearn.preprocessing import MinMaxScaler as mms\n",
    "import numpy as np\n",
    "import pandas_datareader as web\n",
    "from keras.models import Sequential\n",
    "from keras.layers import Dense, LSTM\n",
    "import datetime\n",
    "plt.style.use('fivethirtyeight')"
   ]
  },
  {
   "cell_type": "markdown",
   "metadata": {
    "id": "oittC1sDPbhN"
   },
   "source": [
    "**Input the name of the NASDAQ name of the Company to predict the Stock Price**"
   ]
  },
  {
   "cell_type": "code",
   "execution_count": 4,
   "metadata": {
    "colab": {
     "base_uri": "https://localhost:8080/",
     "height": 67
    },
    "id": "C6n7mi2JPlpL",
    "outputId": "bcf0c0d6-87a8-465c-b340-5640c2abeb90"
   },
   "outputs": [
    {
     "name": "stdout",
     "output_type": "stream",
     "text": [
      "ADBE\n"
     ]
    },
    {
     "ename": "NameError",
     "evalue": "name 'datetime' is not defined",
     "output_type": "error",
     "traceback": [
      "\u001b[1;31m---------------------------------------------------------------------------\u001b[0m",
      "\u001b[1;31mNameError\u001b[0m                                 Traceback (most recent call last)",
      "\u001b[1;32m<ipython-input-4-af5f03b3b875>\u001b[0m in \u001b[0;36m<module>\u001b[1;34m\u001b[0m\n\u001b[0;32m      1\u001b[0m \u001b[0mname\u001b[0m \u001b[1;33m=\u001b[0m \u001b[0minput\u001b[0m\u001b[1;33m(\u001b[0m\u001b[1;33m)\u001b[0m\u001b[1;33m\u001b[0m\u001b[1;33m\u001b[0m\u001b[0m\n\u001b[1;32m----> 2\u001b[1;33m \u001b[0mtoday\u001b[0m \u001b[1;33m=\u001b[0m \u001b[0mdatetime\u001b[0m\u001b[1;33m.\u001b[0m\u001b[0mdate\u001b[0m\u001b[1;33m.\u001b[0m\u001b[0mtoday\u001b[0m\u001b[1;33m(\u001b[0m\u001b[1;33m)\u001b[0m\u001b[1;33m\u001b[0m\u001b[1;33m\u001b[0m\u001b[0m\n\u001b[0m\u001b[0;32m      3\u001b[0m \u001b[0myesterday\u001b[0m \u001b[1;33m=\u001b[0m \u001b[0mtoday\u001b[0m \u001b[1;33m-\u001b[0m \u001b[0mdatetime\u001b[0m\u001b[1;33m.\u001b[0m\u001b[0mtimedelta\u001b[0m\u001b[1;33m(\u001b[0m\u001b[0mdays\u001b[0m \u001b[1;33m=\u001b[0m \u001b[1;36m1\u001b[0m\u001b[1;33m)\u001b[0m\u001b[1;33m\u001b[0m\u001b[1;33m\u001b[0m\u001b[0m\n\u001b[0;32m      4\u001b[0m \u001b[0md_yesterday\u001b[0m \u001b[1;33m=\u001b[0m \u001b[0mtoday\u001b[0m \u001b[1;33m-\u001b[0m \u001b[0mdatetime\u001b[0m\u001b[1;33m.\u001b[0m\u001b[0mtimedelta\u001b[0m\u001b[1;33m(\u001b[0m\u001b[0mdays\u001b[0m \u001b[1;33m=\u001b[0m \u001b[1;36m2\u001b[0m\u001b[1;33m)\u001b[0m\u001b[1;33m\u001b[0m\u001b[1;33m\u001b[0m\u001b[0m\n\u001b[0;32m      5\u001b[0m \u001b[0mprint\u001b[0m\u001b[1;33m(\u001b[0m\u001b[1;34m\"Yesterday's date : \"\u001b[0m\u001b[1;33m,\u001b[0m \u001b[0myesterday\u001b[0m\u001b[1;33m)\u001b[0m\u001b[1;33m\u001b[0m\u001b[1;33m\u001b[0m\u001b[0m\n",
      "\u001b[1;31mNameError\u001b[0m: name 'datetime' is not defined"
     ]
    }
   ],
   "source": [
    "name = input()\n",
    "today = datetime.date.today()\n",
    "yesterday = today - datetime.timedelta(days = 1)\n",
    "d_yesterday = today - datetime.timedelta(days = 2)\n",
    "print(\"Yesterday's date : \", yesterday)\n",
    "print(\"Day before Yesterday : \", d_yesterday)\n",
    "d_yesterday = str(d_yesterday)\n",
    "yesterday = str(yesterday)"
   ]
  },
  {
   "cell_type": "markdown",
   "metadata": {
    "id": "qrh56vVFSGqw"
   },
   "source": [
    "**Creating the Data Frame using Yahoo as the Data Source**"
   ]
  },
  {
   "cell_type": "code",
   "execution_count": null,
   "metadata": {
    "colab": {
     "base_uri": "https://localhost:8080/",
     "height": 421
    },
    "id": "9Y1w9iweDrtD",
    "outputId": "caec2ba3-29ef-484e-c71f-800c4fa9780d"
   },
   "outputs": [],
   "source": [
    "df = web.DataReader(name, data_source = 'yahoo', start='2010-01-01', end = d_yesterday)\n",
    "df"
   ]
  },
  {
   "cell_type": "code",
   "execution_count": 69,
   "metadata": {
    "colab": {
     "base_uri": "https://localhost:8080/",
     "height": 34
    },
    "id": "mv8tr4D8Eecx",
    "outputId": "d9818f86-77e6-4f3e-c0f4-10bded134ea3"
   },
   "outputs": [
    {
     "data": {
      "text/plain": [
       "(2722, 6)"
      ]
     },
     "execution_count": 69,
     "metadata": {
      "tags": []
     },
     "output_type": "execute_result"
    }
   ],
   "source": [
    "df.shape"
   ]
  },
  {
   "cell_type": "markdown",
   "metadata": {
    "id": "CfC6ZHmxSWDY"
   },
   "source": [
    "**Visualizing the Closing Price of Stocks**"
   ]
  },
  {
   "cell_type": "code",
   "execution_count": 70,
   "metadata": {
    "colab": {
     "base_uri": "https://localhost:8080/",
     "height": 715
    },
    "id": "MKmVNbnFGYMk",
    "outputId": "1de53118-7b85-4fe1-dba2-02f9f7304709"
   },
   "outputs": [
    {
     "data": {
      "image/png": "[encoded data removed]",
      "text/plain": [
       "<Figure size 1728x864 with 1 Axes>"
      ]
     },
     "metadata": {
      "tags": []
     },
     "output_type": "display_data"
    }
   ],
   "source": [
    "plt.figure(figsize = (24,12))\n",
    "plt.title('Stock History')\n",
    "plt.xlabel('Date', fontsize = 22)\n",
    "plt.ylabel('Closing Stock Price ($)', fontsize = 22)\n",
    "plt.plot(df['Close'])\n",
    "plt.show()"
   ]
  },
  {
   "cell_type": "markdown",
   "metadata": {
    "id": "VgChSImlSfQF"
   },
   "source": [
    "**Training the model with 80% of the Data**"
   ]
  },
  {
   "cell_type": "code",
   "execution_count": 71,
   "metadata": {
    "colab": {
     "base_uri": "https://localhost:8080/",
     "height": 34
    },
    "id": "201pxL3bIYfV",
    "outputId": "d580f814-4865-472d-9ed2-7513fe6fec52"
   },
   "outputs": [
    {
     "data": {
      "text/plain": [
       "2178"
      ]
     },
     "execution_count": 71,
     "metadata": {
      "tags": []
     },
     "output_type": "execute_result"
    }
   ],
   "source": [
    "data = df.filter(['Close'])\n",
    "ds = data.values\n",
    "training = m.ceil(len(ds)*0.8)\n",
    "training"
   ]
  },
  {
   "cell_type": "markdown",
   "metadata": {
    "id": "odZtD3GfS-EM"
   },
   "source": [
    "**Scaling of Data**"
   ]
  },
  {
   "cell_type": "code",
   "execution_count": 72,
   "metadata": {
    "colab": {
     "base_uri": "https://localhost:8080/",
     "height": 134
    },
    "id": "KG77eEfHOtac",
    "outputId": "084d2775-1be5-4909-b848-d368c5972eec"
   },
   "outputs": [
    {
     "data": {
      "text/plain": [
       "array([[0.03805599],\n",
       "       [0.03810391],\n",
       "       [0.03719325],\n",
       "       ...,\n",
       "       [0.91923892],\n",
       "       [0.91967027],\n",
       "       [0.9260928 ]])"
      ]
     },
     "execution_count": 72,
     "metadata": {
      "tags": []
     },
     "output_type": "execute_result"
    }
   ],
   "source": [
    "sc = mms(feature_range=(0,1))\n",
    "sd = sc.fit_transform(ds)\n",
    "sd"
   ]
  },
  {
   "cell_type": "markdown",
   "metadata": {
    "id": "YsyBakJMUCew"
   },
   "source": [
    "1.   Creating **Training** Dataset\n",
    "2.   Creating **Scaled Training** Dataset\n",
    "3.   **Spliting** the Dataset into **Two** Datasets\n",
    "\n"
   ]
  },
  {
   "cell_type": "code",
   "execution_count": 73,
   "metadata": {
    "colab": {
     "base_uri": "https://localhost:8080/",
     "height": 252
    },
    "id": "rLe4Riy3RCrp",
    "outputId": "3604b555-62dd-4b5f-9d19-98a1a02918c1"
   },
   "outputs": [
    {
     "name": "stdout",
     "output_type": "stream",
     "text": [
      "[array([0.03805599, 0.03810391, 0.03719325, 0.03565951, 0.03666603,\n",
      "       0.03479678, 0.03383819, 0.03518022, 0.03810391, 0.03762462,\n",
      "       0.03877493, 0.03633052, 0.03355061, 0.02851802, 0.03024348,\n",
      "       0.03110621, 0.03192101, 0.02947661, 0.02477953, 0.0258819 ,\n",
      "       0.02612154, 0.02693635, 0.02314992, 0.02401266, 0.02257477,\n",
      "       0.02396472, 0.02386886, 0.02449195, 0.02358129, 0.02559433,\n",
      "       0.02674463, 0.02856595, 0.02760736, 0.02741564, 0.02549847,\n",
      "       0.02693635, 0.02679256, 0.02712807, 0.0288056 , 0.02612154,\n",
      "       0.02612154, 0.02693635, 0.02674463, 0.02693635, 0.02775115,\n",
      "       0.02856595, 0.02957247, 0.03000384, 0.0300997 , 0.03048313,\n",
      "       0.03172929, 0.03163344, 0.03153758, 0.03158551, 0.03292753,\n",
      "       0.03182515, 0.03355061, 0.03187308, 0.03153758, 0.03240031])]\n",
      "[0.030099697456138608]\n",
      "\n"
     ]
    }
   ],
   "source": [
    "td = sd[0:training, :]\n",
    "x_train = []\n",
    "y_train = []\n",
    "for i in range(60,len(td)):\n",
    "  x_train.append(td[i-60 : i, 0])\n",
    "  y_train.append(td[i, 0])\n",
    "  if i<= 60:\n",
    "    print(x_train)\n",
    "    print(y_train)\n",
    "    print()"
   ]
  },
  {
   "cell_type": "markdown",
   "metadata": {
    "id": "byVxTdVwbkc0"
   },
   "source": [
    "**Converting x_train and y_train to numpy array**"
   ]
  },
  {
   "cell_type": "code",
   "execution_count": 74,
   "metadata": {
    "colab": {
     "base_uri": "https://localhost:8080/",
     "height": 34
    },
    "id": "Q_5lbk62buqo",
    "outputId": "583e8cd8-ce7a-4bb7-cb06-6e5cab5313cd"
   },
   "outputs": [
    {
     "data": {
      "text/plain": [
       "(2118, 60, 1)"
      ]
     },
     "execution_count": 74,
     "metadata": {
      "tags": []
     },
     "output_type": "execute_result"
    }
   ],
   "source": [
    "x_train, y_train = np.array(x_train), np.array(y_train)\n",
    "x_train = np.reshape(x_train, (x_train.shape[0], x_train.shape[1], 1))\n",
    "x_train.shape"
   ]
  },
  {
   "cell_type": "markdown",
   "metadata": {
    "id": "FeeJLMgHneWy"
   },
   "source": [
    "**LSTM Model**"
   ]
  },
  {
   "cell_type": "code",
   "execution_count": 75,
   "metadata": {
    "id": "Cbr5lIw3clne"
   },
   "outputs": [],
   "source": [
    "model = Sequential()\n",
    "model.add(LSTM(50, return_sequences = True, input_shape = (x_train.shape[1], 1)))\n",
    "model.add(LSTM(50, return_sequences = False))\n",
    "model.add(Dense(25))\n",
    "model.add(Dense(1))"
   ]
  },
  {
   "cell_type": "code",
   "execution_count": 76,
   "metadata": {
    "id": "QGVbQZFaobQ8"
   },
   "outputs": [],
   "source": [
    "model.compile(optimizer = 'adam' , loss = 'mean_squared_error')"
   ]
  },
  {
   "cell_type": "code",
   "execution_count": 77,
   "metadata": {
    "colab": {
     "base_uri": "https://localhost:8080/",
     "height": 50
    },
    "id": "aONvaikbpTrH",
    "outputId": "278354dd-5118-446d-911e-caeae324840d"
   },
   "outputs": [
    {
     "name": "stdout",
     "output_type": "stream",
     "text": [
      "2118/2118 [==============================] - 52s 25ms/step - loss: 1.8170e-04\n"
     ]
    },
    {
     "data": {
      "text/plain": [
       "<tensorflow.python.keras.callbacks.History at 0x7fec71a2bda0>"
      ]
     },
     "execution_count": 77,
     "metadata": {
      "tags": []
     },
     "output_type": "execute_result"
    }
   ],
   "source": [
    "model.fit(x_train, y_train, batch_size=1, epochs=1)"
   ]
  },
  {
   "cell_type": "markdown",
   "metadata": {
    "id": "YDCQM67vqc3o"
   },
   "source": [
    "1.   **Creating testing Dataset**\n",
    "2.   **Creating a new array containing scaled values from index 1695 to 2193**\n",
    "\n"
   ]
  },
  {
   "cell_type": "code",
   "execution_count": 78,
   "metadata": {
    "id": "AjeaJHIppwtU"
   },
   "outputs": [],
   "source": [
    "td = sd[training - 60 : , :]\n",
    "x_test = []\n",
    "y_test = ds[training : , :]\n",
    "for i in range (60, len(td)):\n",
    "  x_test.append(td[i - 60 : i, 0])"
   ]
  },
  {
   "cell_type": "markdown",
   "metadata": {
    "id": "sI9BvT0hsMHK"
   },
   "source": [
    "**Converting the test data to numpy array**"
   ]
  },
  {
   "cell_type": "code",
   "execution_count": 79,
   "metadata": {
    "id": "bPbOhs8ysCUU"
   },
   "outputs": [],
   "source": [
    "x_test = np.array(x_test)"
   ]
  },
  {
   "cell_type": "code",
   "execution_count": 80,
   "metadata": {
    "id": "DQMprj3Zsb_u"
   },
   "outputs": [],
   "source": [
    "x_test = np.reshape(x_test, (x_test.shape[0], x_test.shape[1], 1))"
   ]
  },
  {
   "cell_type": "code",
   "execution_count": 81,
   "metadata": {
    "colab": {
     "base_uri": "https://localhost:8080/",
     "height": 34
    },
    "id": "-vyFehyMs52A",
    "outputId": "5a35fcf3-5536-4fcf-8dbf-6ddb2d791a7f"
   },
   "outputs": [
    {
     "name": "stdout",
     "output_type": "stream",
     "text": [
      "Yes\n"
     ]
    }
   ],
   "source": [
    "predictions = model.predict(x_test)\n",
    "predictions = sc.inverse_transform(predictions)\n",
    "if predictions.all() == y_test.all():\n",
    "  print('Yes')"
   ]
  },
  {
   "cell_type": "markdown",
   "metadata": {
    "id": "6G1I52Ydx4TT"
   },
   "source": [
    "Thus predictions are exactly similar to y_test"
   ]
  },
  {
   "cell_type": "markdown",
   "metadata": {
    "id": "vAn47T1XyVzp"
   },
   "source": [
    "**Root Mean Square Error**"
   ]
  },
  {
   "cell_type": "code",
   "execution_count": 82,
   "metadata": {
    "colab": {
     "base_uri": "https://localhost:8080/",
     "height": 34
    },
    "id": "6F-sFRlaxI2i",
    "outputId": "0ee1e1cf-f2f5-496a-80ba-f5a06b323b7a"
   },
   "outputs": [
    {
     "data": {
      "text/plain": [
       "1.2659759521484375"
      ]
     },
     "execution_count": 82,
     "metadata": {
      "tags": []
     },
     "output_type": "execute_result"
    }
   ],
   "source": [
    "rms = np.sqrt(np.mean(predictions - y_test) ** 2)\n",
    "rms"
   ]
  },
  {
   "cell_type": "markdown",
   "metadata": {
    "id": "yKoPLfnM2PJJ"
   },
   "source": [
    "**Plotting the data**"
   ]
  },
  {
   "cell_type": "code",
   "execution_count": 83,
   "metadata": {
    "colab": {
     "base_uri": "https://localhost:8080/",
     "height": 818
    },
    "id": "_v-_xT-cytFO",
    "outputId": "5ed2b730-4519-466e-e0e1-f3c0955b77b0"
   },
   "outputs": [
    {
     "name": "stderr",
     "output_type": "stream",
     "text": [
      "/usr/local/lib/python3.6/dist-packages/ipykernel_launcher.py:3: SettingWithCopyWarning: \n",
      "A value is trying to be set on a copy of a slice from a DataFrame.\n",
      "Try using .loc[row_indexer,col_indexer] = value instead\n",
      "\n",
      "See the caveats in the documentation: https://pandas.pydata.org/pandas-docs/stable/user_guide/indexing.html#returning-a-view-versus-a-copy\n",
      "  This is separate from the ipykernel package so we can avoid doing imports until\n"
     ]
    },
    {
     "data": {
      "image/png": "[encoded data removed]",
      "text/plain": [
       "<Figure size 1728x864 with 1 Axes>"
      ]
     },
     "metadata": {
      "tags": []
     },
     "output_type": "display_data"
    }
   ],
   "source": [
    "train = data[ : training] \n",
    "valid = data[training : ]\n",
    "valid['Predictions'] = predictions\n",
    "plt.figure(figsize = (24,12))\n",
    "plt.title('Model',fontsize = 22)\n",
    "plt.xlabel('Date',fontsize = 22)\n",
    "plt.ylabel('Stock Price ($)',fontsize = 22)\n",
    "plt.plot(train['Close'])\n",
    "plt.plot(valid[['Close', 'Predictions']])\n",
    "plt.legend(['Train','Val','Predictions'], loc = 'lower right')\n",
    "plt.show()"
   ]
  },
  {
   "cell_type": "code",
   "execution_count": 84,
   "metadata": {
    "colab": {
     "base_uri": "https://localhost:8080/",
     "height": 431
    },
    "id": "seb6ScMq3sxg",
    "outputId": "e7c5f485-a732-4fee-bbc8-c5f2ab0f2398"
   },
   "outputs": [
    {
     "data": {
      "text/html": [
       "<div>\n",
       "<style scoped>\n",
       "    .dataframe tbody tr th:only-of-type {\n",
       "        vertical-align: middle;\n",
       "    }\n",
       "\n",
       "    .dataframe tbody tr th {\n",
       "        vertical-align: top;\n",
       "    }\n",
       "\n",
       "    .dataframe thead th {\n",
       "        text-align: right;\n",
       "    }\n",
       "</style>\n",
       "<table border=\"1\" class=\"dataframe\">\n",
       "  <thead>\n",
       "    <tr style=\"text-align: right;\">\n",
       "      <th></th>\n",
       "      <th>Close</th>\n",
       "      <th>Predictions</th>\n",
       "    </tr>\n",
       "    <tr>\n",
       "      <th>Date</th>\n",
       "      <th></th>\n",
       "      <th></th>\n",
       "    </tr>\n",
       "  </thead>\n",
       "  <tbody>\n",
       "    <tr>\n",
       "      <th>2018-08-28</th>\n",
       "      <td>110.260002</td>\n",
       "      <td>107.840942</td>\n",
       "    </tr>\n",
       "    <tr>\n",
       "      <th>2018-08-29</th>\n",
       "      <td>112.019997</td>\n",
       "      <td>108.263489</td>\n",
       "    </tr>\n",
       "    <tr>\n",
       "      <th>2018-08-30</th>\n",
       "      <td>111.949997</td>\n",
       "      <td>108.906502</td>\n",
       "    </tr>\n",
       "    <tr>\n",
       "      <th>2018-08-31</th>\n",
       "      <td>112.330002</td>\n",
       "      <td>109.566536</td>\n",
       "    </tr>\n",
       "    <tr>\n",
       "      <th>2018-09-04</th>\n",
       "      <td>111.709999</td>\n",
       "      <td>110.202904</td>\n",
       "    </tr>\n",
       "    <tr>\n",
       "      <th>...</th>\n",
       "      <td>...</td>\n",
       "      <td>...</td>\n",
       "    </tr>\n",
       "    <tr>\n",
       "      <th>2020-10-19</th>\n",
       "      <td>214.220001</td>\n",
       "      <td>215.453186</td>\n",
       "    </tr>\n",
       "    <tr>\n",
       "      <th>2020-10-20</th>\n",
       "      <td>214.649994</td>\n",
       "      <td>215.418411</td>\n",
       "    </tr>\n",
       "    <tr>\n",
       "      <th>2020-10-21</th>\n",
       "      <td>214.800003</td>\n",
       "      <td>215.064911</td>\n",
       "    </tr>\n",
       "    <tr>\n",
       "      <th>2020-10-22</th>\n",
       "      <td>214.889999</td>\n",
       "      <td>214.615753</td>\n",
       "    </tr>\n",
       "    <tr>\n",
       "      <th>2020-10-23</th>\n",
       "      <td>216.229996</td>\n",
       "      <td>214.184067</td>\n",
       "    </tr>\n",
       "  </tbody>\n",
       "</table>\n",
       "<p>544 rows × 2 columns</p>\n",
       "</div>"
      ],
      "text/plain": [
       "                 Close  Predictions\n",
       "Date                               \n",
       "2018-08-28  110.260002   107.840942\n",
       "2018-08-29  112.019997   108.263489\n",
       "2018-08-30  111.949997   108.906502\n",
       "2018-08-31  112.330002   109.566536\n",
       "2018-09-04  111.709999   110.202904\n",
       "...                ...          ...\n",
       "2020-10-19  214.220001   215.453186\n",
       "2020-10-20  214.649994   215.418411\n",
       "2020-10-21  214.800003   215.064911\n",
       "2020-10-22  214.889999   214.615753\n",
       "2020-10-23  216.229996   214.184067\n",
       "\n",
       "[544 rows x 2 columns]"
      ]
     },
     "execution_count": 84,
     "metadata": {
      "tags": []
     },
     "output_type": "execute_result"
    }
   ],
   "source": [
    "valid"
   ]
  },
  {
   "cell_type": "code",
   "execution_count": 92,
   "metadata": {
    "colab": {
     "base_uri": "https://localhost:8080/",
     "height": 34
    },
    "id": "i8E8nx3SHG5R",
    "outputId": "22af8e54-502d-4296-96db-2d90e757dd4e"
   },
   "outputs": [
    {
     "name": "stdout",
     "output_type": "stream",
     "text": [
      "Predicted Price =  [[4.1142464]]\n"
     ]
    }
   ],
   "source": [
    "name_quote = web.DataReader('name','yahoo', start='1980-01-01', end = d_yesterday)\n",
    "new_df = name_quote.filter(['Close'])\n",
    "last_60 = new_df[-60:].values\n",
    "last_60_scaled = sc.transform(last_60)\n",
    "X_test = []\n",
    "X_test.append((last_60_scaled))\n",
    "X_test = np.array(X_test)\n",
    "X_test = np.reshape(X_test, (X_test.shape[0], X_test.shape[1], 1))\n",
    "predict_price = model.predict(X_test)\n",
    "predict_price = sc.inverse_transform(predict_price)\n",
    "print(\"Predicted Price = \",predict_price)"
   ]
  },
  {
   "cell_type": "code",
   "execution_count": 93,
   "metadata": {
    "colab": {
     "base_uri": "https://localhost:8080/",
     "height": 67
    },
    "id": "4G3bOSfwLEAa",
    "outputId": "12faca70-b01a-4a1b-8c4a-9196e376dbe2"
   },
   "outputs": [
    {
     "name": "stdout",
     "output_type": "stream",
     "text": [
      "Date\n",
      "2020-10-23    216.229996\n",
      "Name: Close, dtype: float64\n"
     ]
    }
   ],
   "source": [
    "name_quote = web.DataReader(name, 'yahoo', start = d_yesterday, end = yesterday)\n",
    "print(name_quote['Close'])"
   ]
  },
  {
   "cell_type": "code",
   "execution_count": null,
   "metadata": {
    "id": "kX5LYPHkMJhW"
   },
   "outputs": [],
   "source": []
  }
 ],
 "metadata": {
  "colab": {
   "collapsed_sections": [],
   "name": "Untitled35.ipynb",
   "provenance": []
  },
  "kernelspec": {
   "display_name": "Python 3",
   "language": "python",
   "name": "python3"
  },
  "language_info": {
   "codemirror_mode": {
    "name": "ipython",
    "version": 3
   },
   "file_extension": ".py",
   "mimetype": "text/x-python",
   "name": "python",
   "nbconvert_exporter": "python",
   "pygments_lexer": "ipython3",
   "version": "3.7.3"
  }
 },
 "nbformat": 4,
 "nbformat_minor": 1
}
