{
  "nbformat": 4,
  "nbformat_minor": 0,
  "metadata": {
    "colab": {
      "name": "Untitled35.ipynb",
      "provenance": [],
      "collapsed_sections": []
    },
    "kernelspec": {
      "name": "python3",
      "display_name": "Python 3"
    }
  },
  "cells": [
    {
      "cell_type": "markdown",
      "metadata": {
        "id": "r9Mc7ppZRx70"
      },
      "source": [
        "**Importing the Libraries**"
      ]
    },
    {
      "cell_type": "code",
      "metadata": {
        "id": "yq9p70ArCgQ1"
      },
      "source": [
        "import pandas as pd\n",
        "import matplotlib.pyplot as plt\n",
        "import math as m\n",
        "from sklearn.preprocessing import MinMaxScaler as mms\n",
        "import numpy as np\n",
        "import pandas_datareader as web\n",
        "from keras.models import Sequential\n",
        "from keras.layers import Dense, LSTM\n",
        "import datetime\n",
        "plt.style.use('fivethirtyeight')"
      ],
      "execution_count": 1,
      "outputs": []
    },
    {
      "cell_type": "markdown",
      "metadata": {
        "id": "oittC1sDPbhN"
      },
      "source": [
        "**Input the name of the NASDAQ name of the Company to predict the Stock Price**"
      ]
    },
    {
      "cell_type": "code",
      "metadata": {
        "id": "C6n7mi2JPlpL",
        "outputId": "0d3d7f62-e33c-4c94-98f7-556afd9a54f8",
        "colab": {
          "base_uri": "https://localhost:8080/",
          "height": 67
        }
      },
      "source": [
        "name = input()\n",
        "today = datetime.date.today()\n",
        "yesterday = today - datetime.timedelta(days = 1)\n",
        "d_yesterday = today - datetime.timedelta(days = 2)\n",
        "print(\"Yesterday's date : \", yesterday)\n",
        "print(\"Day before Yesterday : \", d_yesterday)\n",
        "d_yesterday = str(d_yesterday)\n",
        "yesterday = str(yesterday)"
      ],
      "execution_count": 2,
      "outputs": [
        {
          "output_type": "stream",
          "text": [
            "AAPL\n",
            "Yesterday's date :  2020-10-25\n",
            "Day before Yesterday :  2020-10-24\n"
          ],
          "name": "stdout"
        }
      ]
    },
    {
      "cell_type": "markdown",
      "metadata": {
        "id": "qrh56vVFSGqw"
      },
      "source": [
        "**Creating the Data Frame using Yahoo as the Data Source**"
      ]
    },
    {
      "cell_type": "code",
      "metadata": {
        "id": "9Y1w9iweDrtD",
        "outputId": "d2c2e37b-b61e-44a5-8cd3-5d98e88518e8",
        "colab": {
          "base_uri": "https://localhost:8080/",
          "height": 431
        }
      },
      "source": [
        "df = web.DataReader(name, data_source = 'yahoo', start='2010-01-01', end = d_yesterday)\n",
        "df"
      ],
      "execution_count": 3,
      "outputs": [
        {
          "output_type": "execute_result",
          "data": {
            "text/html": [
              "<div>\n",
              "<style scoped>\n",
              "    .dataframe tbody tr th:only-of-type {\n",
              "        vertical-align: middle;\n",
              "    }\n",
              "\n",
              "    .dataframe tbody tr th {\n",
              "        vertical-align: top;\n",
              "    }\n",
              "\n",
              "    .dataframe thead th {\n",
              "        text-align: right;\n",
              "    }\n",
              "</style>\n",
              "<table border=\"1\" class=\"dataframe\">\n",
              "  <thead>\n",
              "    <tr style=\"text-align: right;\">\n",
              "      <th></th>\n",
              "      <th>High</th>\n",
              "      <th>Low</th>\n",
              "      <th>Open</th>\n",
              "      <th>Close</th>\n",
              "      <th>Volume</th>\n",
              "      <th>Adj Close</th>\n",
              "    </tr>\n",
              "    <tr>\n",
              "      <th>Date</th>\n",
              "      <th></th>\n",
              "      <th></th>\n",
              "      <th></th>\n",
              "      <th></th>\n",
              "      <th></th>\n",
              "      <th></th>\n",
              "    </tr>\n",
              "  </thead>\n",
              "  <tbody>\n",
              "    <tr>\n",
              "      <th>2010-01-04</th>\n",
              "      <td>7.660714</td>\n",
              "      <td>7.585000</td>\n",
              "      <td>7.622500</td>\n",
              "      <td>7.643214</td>\n",
              "      <td>493729600.0</td>\n",
              "      <td>6.604801</td>\n",
              "    </tr>\n",
              "    <tr>\n",
              "      <th>2010-01-05</th>\n",
              "      <td>7.699643</td>\n",
              "      <td>7.616071</td>\n",
              "      <td>7.664286</td>\n",
              "      <td>7.656428</td>\n",
              "      <td>601904800.0</td>\n",
              "      <td>6.616219</td>\n",
              "    </tr>\n",
              "    <tr>\n",
              "      <th>2010-01-06</th>\n",
              "      <td>7.686786</td>\n",
              "      <td>7.526786</td>\n",
              "      <td>7.656428</td>\n",
              "      <td>7.534643</td>\n",
              "      <td>552160000.0</td>\n",
              "      <td>6.510980</td>\n",
              "    </tr>\n",
              "    <tr>\n",
              "      <th>2010-01-07</th>\n",
              "      <td>7.571429</td>\n",
              "      <td>7.466072</td>\n",
              "      <td>7.562500</td>\n",
              "      <td>7.520714</td>\n",
              "      <td>477131200.0</td>\n",
              "      <td>6.498945</td>\n",
              "    </tr>\n",
              "    <tr>\n",
              "      <th>2010-01-08</th>\n",
              "      <td>7.571429</td>\n",
              "      <td>7.466429</td>\n",
              "      <td>7.510714</td>\n",
              "      <td>7.570714</td>\n",
              "      <td>447610800.0</td>\n",
              "      <td>6.542150</td>\n",
              "    </tr>\n",
              "    <tr>\n",
              "      <th>...</th>\n",
              "      <td>...</td>\n",
              "      <td>...</td>\n",
              "      <td>...</td>\n",
              "      <td>...</td>\n",
              "      <td>...</td>\n",
              "      <td>...</td>\n",
              "    </tr>\n",
              "    <tr>\n",
              "      <th>2020-10-19</th>\n",
              "      <td>120.419998</td>\n",
              "      <td>115.660004</td>\n",
              "      <td>119.959999</td>\n",
              "      <td>115.980003</td>\n",
              "      <td>120639300.0</td>\n",
              "      <td>115.980003</td>\n",
              "    </tr>\n",
              "    <tr>\n",
              "      <th>2020-10-20</th>\n",
              "      <td>118.980003</td>\n",
              "      <td>115.629997</td>\n",
              "      <td>116.199997</td>\n",
              "      <td>117.510002</td>\n",
              "      <td>124423700.0</td>\n",
              "      <td>117.510002</td>\n",
              "    </tr>\n",
              "    <tr>\n",
              "      <th>2020-10-21</th>\n",
              "      <td>118.709999</td>\n",
              "      <td>116.449997</td>\n",
              "      <td>116.669998</td>\n",
              "      <td>116.870003</td>\n",
              "      <td>89946000.0</td>\n",
              "      <td>116.870003</td>\n",
              "    </tr>\n",
              "    <tr>\n",
              "      <th>2020-10-22</th>\n",
              "      <td>118.040001</td>\n",
              "      <td>114.589996</td>\n",
              "      <td>117.449997</td>\n",
              "      <td>115.750000</td>\n",
              "      <td>101988000.0</td>\n",
              "      <td>115.750000</td>\n",
              "    </tr>\n",
              "    <tr>\n",
              "      <th>2020-10-23</th>\n",
              "      <td>116.550003</td>\n",
              "      <td>114.279999</td>\n",
              "      <td>116.389999</td>\n",
              "      <td>115.040001</td>\n",
              "      <td>82396600.0</td>\n",
              "      <td>115.040001</td>\n",
              "    </tr>\n",
              "  </tbody>\n",
              "</table>\n",
              "<p>2722 rows × 6 columns</p>\n",
              "</div>"
            ],
            "text/plain": [
              "                  High         Low  ...       Volume   Adj Close\n",
              "Date                                ...                         \n",
              "2010-01-04    7.660714    7.585000  ...  493729600.0    6.604801\n",
              "2010-01-05    7.699643    7.616071  ...  601904800.0    6.616219\n",
              "2010-01-06    7.686786    7.526786  ...  552160000.0    6.510980\n",
              "2010-01-07    7.571429    7.466072  ...  477131200.0    6.498945\n",
              "2010-01-08    7.571429    7.466429  ...  447610800.0    6.542150\n",
              "...                ...         ...  ...          ...         ...\n",
              "2020-10-19  120.419998  115.660004  ...  120639300.0  115.980003\n",
              "2020-10-20  118.980003  115.629997  ...  124423700.0  117.510002\n",
              "2020-10-21  118.709999  116.449997  ...   89946000.0  116.870003\n",
              "2020-10-22  118.040001  114.589996  ...  101988000.0  115.750000\n",
              "2020-10-23  116.550003  114.279999  ...   82396600.0  115.040001\n",
              "\n",
              "[2722 rows x 6 columns]"
            ]
          },
          "metadata": {
            "tags": []
          },
          "execution_count": 3
        }
      ]
    },
    {
      "cell_type": "code",
      "metadata": {
        "id": "mv8tr4D8Eecx",
        "outputId": "4095eda8-4c3a-4495-8c3c-9793098fb335",
        "colab": {
          "base_uri": "https://localhost:8080/",
          "height": 34
        }
      },
      "source": [
        "df.shape"
      ],
      "execution_count": 4,
      "outputs": [
        {
          "output_type": "execute_result",
          "data": {
            "text/plain": [
              "(2722, 6)"
            ]
          },
          "metadata": {
            "tags": []
          },
          "execution_count": 4
        }
      ]
    },
    {
      "cell_type": "markdown",
      "metadata": {
        "id": "CfC6ZHmxSWDY"
      },
      "source": [
        "**Visualizing the Closing Price of Stocks**"
      ]
    },
    {
      "cell_type": "code",
      "metadata": {
        "id": "MKmVNbnFGYMk",
        "outputId": "7352a3a6-2884-423b-a95d-ced021897d5b",
        "colab": {
          "base_uri": "https://localhost:8080/",
          "height": 669
        }
      },
      "source": [
        "plt.figure(figsize = (24,12))\n",
        "plt.title('Stock History')\n",
        "plt.xlabel('Date', fontsize = 22)\n",
        "plt.ylabel('Closing Stock Price ($)', fontsize = 22)\n",
        "plt.plot(df['Close'])\n",
        "plt.show()"
      ],
      "execution_count": 5,
      "outputs": [
        {
          "output_type": "display_data",
          "data": {
            "image/png": "[encoded data removed]",
            "text/plain": [
              "<Figure size 1728x864 with 1 Axes>"
            ]
          },
          "metadata": {
            "tags": [],
            "needs_background": "light"
          }
        }
      ]
    },
    {
      "cell_type": "markdown",
      "metadata": {
        "id": "VgChSImlSfQF"
      },
      "source": [
        "**Training the model with 80% of the Data**"
      ]
    },
    {
      "cell_type": "code",
      "metadata": {
        "id": "201pxL3bIYfV",
        "outputId": "3142899b-92df-41bd-95a0-e8156ac14621",
        "colab": {
          "base_uri": "https://localhost:8080/",
          "height": 34
        }
      },
      "source": [
        "data = df.filter(['Close'])\n",
        "ds = data.values\n",
        "training = m.ceil(len(ds)*0.8)\n",
        "training"
      ],
      "execution_count": 6,
      "outputs": [
        {
          "output_type": "execute_result",
          "data": {
            "text/plain": [
              "2178"
            ]
          },
          "metadata": {
            "tags": []
          },
          "execution_count": 6
        }
      ]
    },
    {
      "cell_type": "markdown",
      "metadata": {
        "id": "odZtD3GfS-EM"
      },
      "source": [
        "**Scaling of Data**"
      ]
    },
    {
      "cell_type": "code",
      "metadata": {
        "id": "KG77eEfHOtac",
        "outputId": "9b843fce-750d-4d6a-fcdf-2994501407e3",
        "colab": {
          "base_uri": "https://localhost:8080/",
          "height": 134
        }
      },
      "source": [
        "sc = mms(feature_range=(0,1))\n",
        "sd = sc.fit_transform(ds)\n",
        "sd"
      ],
      "execution_count": 7,
      "outputs": [
        {
          "output_type": "execute_result",
          "data": {
            "text/plain": [
              "array([[0.0061599 ],\n",
              "       [0.00626369],\n",
              "       [0.00530717],\n",
              "       ...,\n",
              "       [0.86404457],\n",
              "       [0.85524789],\n",
              "       [0.84967144]])"
            ]
          },
          "metadata": {
            "tags": []
          },
          "execution_count": 7
        }
      ]
    },
    {
      "cell_type": "markdown",
      "metadata": {
        "id": "YsyBakJMUCew"
      },
      "source": [
        "1.   Creating **Training** Dataset\n",
        "2.   Creating **Scaled Training** Dataset\n",
        "3.   **Spliting** the Dataset into **Two** Datasets\n",
        "\n"
      ]
    },
    {
      "cell_type": "code",
      "metadata": {
        "id": "rLe4Riy3RCrp",
        "outputId": "90c4e124-4a73-48cf-dd1f-4ca23338803f",
        "colab": {
          "base_uri": "https://localhost:8080/",
          "height": 302
        }
      },
      "source": [
        "td = sd[0:training, :]\n",
        "x_train = []\n",
        "y_train = []\n",
        "for i in range(60,len(td)):\n",
        "  x_train.append(td[i-60 : i, 0])\n",
        "  y_train.append(td[i, 0])\n",
        "  if i<= 60:\n",
        "    print(x_train)\n",
        "    print(y_train)\n",
        "    print()"
      ],
      "execution_count": 8,
      "outputs": [
        {
          "output_type": "stream",
          "text": [
            "[array([6.15990411e-03, 6.26368985e-03, 5.30716595e-03, 5.19776997e-03,\n",
            "       5.59047946e-03, 5.06593301e-03, 4.39552399e-03, 5.21740582e-03,\n",
            "       4.87518850e-03, 3.89341851e-03, 6.44882412e-03, 5.52035143e-03,\n",
            "       4.49369950e-03, 1.59888170e-03, 3.09117254e-03, 3.89622363e-03,\n",
            "       4.44040594e-03, 2.03085915e-03, 2.80512132e-06, 7.51753789e-04,\n",
            "       1.06872501e-03, 2.01402842e-03, 0.00000000e+00, 9.56523900e-04,\n",
            "       5.80645133e-04, 1.16129401e-03, 8.61153520e-04, 1.85694537e-03,\n",
            "       2.33660988e-03, 3.18373780e-03, 2.94530998e-03, 3.05190084e-03,\n",
            "       2.69846305e-03, 2.34783037e-03, 1.40533208e-03, 2.41515328e-03,\n",
            "       2.79103205e-03, 3.52595511e-03, 4.75176691e-03, 4.71249521e-03,\n",
            "       4.84713729e-03, 5.23423654e-03, 7.54560408e-03, 7.58206691e-03,\n",
            "       8.68726224e-03, 9.19777934e-03, 9.38291735e-03, 9.69147321e-03,\n",
            "       8.91727470e-03, 9.08838336e-03, 8.99581810e-03, 9.14448578e-03,\n",
            "       8.47127165e-03, 9.17253700e-03, 1.01851596e-02, 1.04684731e-02,\n",
            "       9.70549507e-03, 1.08976454e-02, 1.13155973e-02, 1.22861468e-02])]\n",
            "[0.012047722686410078]\n",
            "\n"
          ],
          "name": "stdout"
        }
      ]
    },
    {
      "cell_type": "markdown",
      "metadata": {
        "id": "byVxTdVwbkc0"
      },
      "source": [
        "**Converting x_train and y_train to numpy array**"
      ]
    },
    {
      "cell_type": "code",
      "metadata": {
        "id": "Q_5lbk62buqo",
        "outputId": "261d4a98-631c-405d-ddbe-e34983571ab6",
        "colab": {
          "base_uri": "https://localhost:8080/",
          "height": 34
        }
      },
      "source": [
        "x_train, y_train = np.array(x_train), np.array(y_train)\n",
        "x_train = np.reshape(x_train, (x_train.shape[0], x_train.shape[1], 1))\n",
        "x_train.shape"
      ],
      "execution_count": 9,
      "outputs": [
        {
          "output_type": "execute_result",
          "data": {
            "text/plain": [
              "(2118, 60, 1)"
            ]
          },
          "metadata": {
            "tags": []
          },
          "execution_count": 9
        }
      ]
    },
    {
      "cell_type": "markdown",
      "metadata": {
        "id": "FeeJLMgHneWy"
      },
      "source": [
        "**LSTM Model**"
      ]
    },
    {
      "cell_type": "code",
      "metadata": {
        "id": "Cbr5lIw3clne"
      },
      "source": [
        "model = Sequential()\n",
        "model.add(LSTM(50, return_sequences = True, input_shape = (x_train.shape[1], 1)))\n",
        "model.add(LSTM(50, return_sequences = False))\n",
        "model.add(Dense(25))\n",
        "model.add(Dense(1))"
      ],
      "execution_count": 10,
      "outputs": []
    },
    {
      "cell_type": "code",
      "metadata": {
        "id": "QGVbQZFaobQ8"
      },
      "source": [
        "model.compile(optimizer = 'adam' , loss = 'mean_squared_error')"
      ],
      "execution_count": 11,
      "outputs": []
    },
    {
      "cell_type": "code",
      "metadata": {
        "id": "aONvaikbpTrH",
        "outputId": "96aac33b-aef9-4d13-e889-fa6ecbc7c67c",
        "colab": {
          "base_uri": "https://localhost:8080/",
          "height": 50
        }
      },
      "source": [
        "model.fit(x_train, y_train, batch_size=1, epochs=1)"
      ],
      "execution_count": 12,
      "outputs": [
        {
          "output_type": "stream",
          "text": [
            "2118/2118 [==============================] - 39s 19ms/step - loss: 2.0013e-04\n"
          ],
          "name": "stdout"
        },
        {
          "output_type": "execute_result",
          "data": {
            "text/plain": [
              "<tensorflow.python.keras.callbacks.History at 0x7fb02d775fd0>"
            ]
          },
          "metadata": {
            "tags": []
          },
          "execution_count": 12
        }
      ]
    },
    {
      "cell_type": "markdown",
      "metadata": {
        "id": "YDCQM67vqc3o"
      },
      "source": [
        "1.   **Creating testing Dataset**\n",
        "2.   **Creating a new array containing scaled values from index 1695 to 2193**\n",
        "\n"
      ]
    },
    {
      "cell_type": "code",
      "metadata": {
        "id": "AjeaJHIppwtU"
      },
      "source": [
        "td = sd[training - 60 : , :]\n",
        "x_test = []\n",
        "y_test = ds[training : , :]\n",
        "for i in range (60, len(td)):\n",
        "  x_test.append(td[i - 60 : i, 0])"
      ],
      "execution_count": 13,
      "outputs": []
    },
    {
      "cell_type": "markdown",
      "metadata": {
        "id": "sI9BvT0hsMHK"
      },
      "source": [
        "**Converting the test data to numpy array**"
      ]
    },
    {
      "cell_type": "code",
      "metadata": {
        "id": "bPbOhs8ysCUU"
      },
      "source": [
        "x_test = np.array(x_test)"
      ],
      "execution_count": 14,
      "outputs": []
    },
    {
      "cell_type": "code",
      "metadata": {
        "id": "DQMprj3Zsb_u"
      },
      "source": [
        "x_test = np.reshape(x_test, (x_test.shape[0], x_test.shape[1], 1))"
      ],
      "execution_count": 15,
      "outputs": []
    },
    {
      "cell_type": "code",
      "metadata": {
        "id": "-vyFehyMs52A",
        "outputId": "147e9415-164d-448b-a200-b6ebaf9f4a7e",
        "colab": {
          "base_uri": "https://localhost:8080/",
          "height": 34
        }
      },
      "source": [
        "predictions = model.predict(x_test)\n",
        "predictions = sc.inverse_transform(predictions)\n",
        "if predictions.all() == y_test.all():\n",
        "  print('Yes')"
      ],
      "execution_count": 16,
      "outputs": [
        {
          "output_type": "stream",
          "text": [
            "Yes\n"
          ],
          "name": "stdout"
        }
      ]
    },
    {
      "cell_type": "markdown",
      "metadata": {
        "id": "6G1I52Ydx4TT"
      },
      "source": [
        "Thus predictions are exactly similar to y_test"
      ]
    },
    {
      "cell_type": "markdown",
      "metadata": {
        "id": "vAn47T1XyVzp"
      },
      "source": [
        "**Root Mean Square Error**"
      ]
    },
    {
      "cell_type": "code",
      "metadata": {
        "id": "6F-sFRlaxI2i",
        "outputId": "cb8f30a4-1a11-4e4c-95fc-005164cb7b9c",
        "colab": {
          "base_uri": "https://localhost:8080/",
          "height": 34
        }
      },
      "source": [
        "rms = np.sqrt(np.mean(predictions - y_test) ** 2)\n",
        "rms"
      ],
      "execution_count": 17,
      "outputs": [
        {
          "output_type": "execute_result",
          "data": {
            "text/plain": [
              "3.1202491381589104"
            ]
          },
          "metadata": {
            "tags": []
          },
          "execution_count": 17
        }
      ]
    },
    {
      "cell_type": "markdown",
      "metadata": {
        "id": "yKoPLfnM2PJJ"
      },
      "source": [
        "**Plotting the data**"
      ]
    },
    {
      "cell_type": "code",
      "metadata": {
        "id": "_v-_xT-cytFO",
        "outputId": "557d34eb-e1aa-43f6-c4eb-7c7171390c4d",
        "colab": {
          "base_uri": "https://localhost:8080/",
          "height": 774
        }
      },
      "source": [
        "train = data[ : training] \n",
        "valid = data[training : ]\n",
        "valid['Predictions'] = predictions\n",
        "plt.figure(figsize = (24,12))\n",
        "plt.title('Model',fontsize = 22)\n",
        "plt.xlabel('Date',fontsize = 22)\n",
        "plt.ylabel('Stock Price ($)',fontsize = 22)\n",
        "plt.plot(train['Close'])\n",
        "plt.plot(valid[['Close', 'Predictions']])\n",
        "plt.legend(['Train','Val','Predictions'], loc = 'lower right')\n",
        "plt.show()"
      ],
      "execution_count": 18,
      "outputs": [
        {
          "output_type": "stream",
          "text": [
            "/usr/local/lib/python3.6/dist-packages/ipykernel_launcher.py:3: SettingWithCopyWarning: \n",
            "A value is trying to be set on a copy of a slice from a DataFrame.\n",
            "Try using .loc[row_indexer,col_indexer] = value instead\n",
            "\n",
            "See the caveats in the documentation: https://pandas.pydata.org/pandas-docs/stable/user_guide/indexing.html#returning-a-view-versus-a-copy\n",
            "  This is separate from the ipykernel package so we can avoid doing imports until\n"
          ],
          "name": "stderr"
        },
        {
          "output_type": "display_data",
          "data": {
            "image/png": "[encoded data removed]",
            "text/plain": [
              "<Figure size 1728x864 with 1 Axes>"
            ]
          },
          "metadata": {
            "tags": [],
            "needs_background": "light"
          }
        }
      ]
    },
    {
      "cell_type": "code",
      "metadata": {
        "id": "seb6ScMq3sxg",
        "outputId": "44f147a2-04a5-4c30-f9db-222eccd3dc18",
        "colab": {
          "base_uri": "https://localhost:8080/",
          "height": 431
        }
      },
      "source": [
        "valid"
      ],
      "execution_count": 19,
      "outputs": [
        {
          "output_type": "execute_result",
          "data": {
            "text/html": [
              "<div>\n",
              "<style scoped>\n",
              "    .dataframe tbody tr th:only-of-type {\n",
              "        vertical-align: middle;\n",
              "    }\n",
              "\n",
              "    .dataframe tbody tr th {\n",
              "        vertical-align: top;\n",
              "    }\n",
              "\n",
              "    .dataframe thead th {\n",
              "        text-align: right;\n",
              "    }\n",
              "</style>\n",
              "<table border=\"1\" class=\"dataframe\">\n",
              "  <thead>\n",
              "    <tr style=\"text-align: right;\">\n",
              "      <th></th>\n",
              "      <th>Close</th>\n",
              "      <th>Predictions</th>\n",
              "    </tr>\n",
              "    <tr>\n",
              "      <th>Date</th>\n",
              "      <th></th>\n",
              "      <th></th>\n",
              "    </tr>\n",
              "  </thead>\n",
              "  <tbody>\n",
              "    <tr>\n",
              "      <th>2018-08-28</th>\n",
              "      <td>54.924999</td>\n",
              "      <td>51.807137</td>\n",
              "    </tr>\n",
              "    <tr>\n",
              "      <th>2018-08-29</th>\n",
              "      <td>55.744999</td>\n",
              "      <td>51.997475</td>\n",
              "    </tr>\n",
              "    <tr>\n",
              "      <th>2018-08-30</th>\n",
              "      <td>56.257500</td>\n",
              "      <td>52.267464</td>\n",
              "    </tr>\n",
              "    <tr>\n",
              "      <th>2018-08-31</th>\n",
              "      <td>56.907501</td>\n",
              "      <td>52.602848</td>\n",
              "    </tr>\n",
              "    <tr>\n",
              "      <th>2018-09-04</th>\n",
              "      <td>57.090000</td>\n",
              "      <td>53.003010</td>\n",
              "    </tr>\n",
              "    <tr>\n",
              "      <th>...</th>\n",
              "      <td>...</td>\n",
              "      <td>...</td>\n",
              "    </tr>\n",
              "    <tr>\n",
              "      <th>2020-10-19</th>\n",
              "      <td>115.980003</td>\n",
              "      <td>113.523621</td>\n",
              "    </tr>\n",
              "    <tr>\n",
              "      <th>2020-10-20</th>\n",
              "      <td>117.510002</td>\n",
              "      <td>113.377380</td>\n",
              "    </tr>\n",
              "    <tr>\n",
              "      <th>2020-10-21</th>\n",
              "      <td>116.870003</td>\n",
              "      <td>113.137024</td>\n",
              "    </tr>\n",
              "    <tr>\n",
              "      <th>2020-10-22</th>\n",
              "      <td>115.750000</td>\n",
              "      <td>112.798378</td>\n",
              "    </tr>\n",
              "    <tr>\n",
              "      <th>2020-10-23</th>\n",
              "      <td>115.040001</td>\n",
              "      <td>112.336815</td>\n",
              "    </tr>\n",
              "  </tbody>\n",
              "</table>\n",
              "<p>544 rows × 2 columns</p>\n",
              "</div>"
            ],
            "text/plain": [
              "                 Close  Predictions\n",
              "Date                               \n",
              "2018-08-28   54.924999    51.807137\n",
              "2018-08-29   55.744999    51.997475\n",
              "2018-08-30   56.257500    52.267464\n",
              "2018-08-31   56.907501    52.602848\n",
              "2018-09-04   57.090000    53.003010\n",
              "...                ...          ...\n",
              "2020-10-19  115.980003   113.523621\n",
              "2020-10-20  117.510002   113.377380\n",
              "2020-10-21  116.870003   113.137024\n",
              "2020-10-22  115.750000   112.798378\n",
              "2020-10-23  115.040001   112.336815\n",
              "\n",
              "[544 rows x 2 columns]"
            ]
          },
          "metadata": {
            "tags": []
          },
          "execution_count": 19
        }
      ]
    },
    {
      "cell_type": "code",
      "metadata": {
        "id": "i8E8nx3SHG5R",
        "outputId": "a08627eb-cb4b-4cee-cfb6-fdab67a228fb",
        "colab": {
          "base_uri": "https://localhost:8080/",
          "height": 34
        }
      },
      "source": [
        "name_quote = web.DataReader('name','yahoo', start='1980-01-01', end = d_yesterday)\n",
        "new_df = name_quote.filter(['Close'])\n",
        "last_60 = new_df[-60:].values\n",
        "last_60_scaled = sc.transform(last_60)\n",
        "X_test = []\n",
        "X_test.append((last_60_scaled))\n",
        "X_test = np.array(X_test)\n",
        "X_test = np.reshape(X_test, (X_test.shape[0], X_test.shape[1], 1))\n",
        "predict_price = model.predict(X_test)\n",
        "predict_price = sc.inverse_transform(predict_price)\n",
        "print(\"Predicted Price = \",predict_price)"
      ],
      "execution_count": 20,
      "outputs": [
        {
          "output_type": "stream",
          "text": [
            "Predicted Price =  [[0.44546548]]\n"
          ],
          "name": "stdout"
        }
      ]
    },
    {
      "cell_type": "code",
      "metadata": {
        "id": "4G3bOSfwLEAa",
        "outputId": "667b424a-800b-4f88-df07-9b75544ca4f9",
        "colab": {
          "base_uri": "https://localhost:8080/",
          "height": 67
        }
      },
      "source": [
        "name_quote = web.DataReader(name, 'yahoo', start = d_yesterday, end = yesterday)\n",
        "print(name_quote['Close'])"
      ],
      "execution_count": 21,
      "outputs": [
        {
          "output_type": "stream",
          "text": [
            "Date\n",
            "2020-10-23    115.040001\n",
            "Name: Close, dtype: float64\n"
          ],
          "name": "stdout"
        }
      ]
    },
    {
      "cell_type": "code",
      "metadata": {
        "id": "kX5LYPHkMJhW"
      },
      "source": [
        ""
      ],
      "execution_count": null,
      "outputs": []
    }
  ]
}